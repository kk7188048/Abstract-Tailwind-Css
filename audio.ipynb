{
  "nbformat": 4,
  "nbformat_minor": 0,
  "metadata": {
    "colab": {
      "provenance": [],
      "authorship_tag": "ABX9TyNfKz5vf0a8yMkogV2I2WSF",
      "include_colab_link": true
    },
    "kernelspec": {
      "name": "python3",
      "display_name": "Python 3"
    },
    "language_info": {
      "name": "python"
    }
  },
  "cells": [
    {
      "cell_type": "markdown",
      "metadata": {
        "id": "view-in-github",
        "colab_type": "text"
      },
      "source": [
        "<a href=\"https://colab.research.google.com/github/kk7188048/Abstract-Tailwind-Css/blob/main/audio.ipynb\" target=\"_parent\"><img src=\"https://colab.research.google.com/assets/colab-badge.svg\" alt=\"Open In Colab\"/></a>"
      ]
    },
    {
      "cell_type": "code",
      "execution_count": 2,
      "metadata": {
        "colab": {
          "base_uri": "https://localhost:8080/"
        },
        "id": "GMKhx-cmM5zs",
        "outputId": "abde5bec-bb55-49f1-c3ee-3651a30489d6"
      },
      "outputs": [
        {
          "output_type": "execute_result",
          "data": {
            "text/plain": [
              "(_wave_params(nchannels=1, sampwidth=2, framerate=8000, nframes=0, comptype='NONE', compname='not compressed'),\n",
              " 2,\n",
              " 1,\n",
              " 8000,\n",
              " 0)"
            ]
          },
          "metadata": {},
          "execution_count": 2
        }
      ],
      "source": [
        "import wave\n",
        "\n",
        "# Open the uploaded file and extract parameters\n",
        "file_path = '/content/streamed_audio.wav'\n",
        "\n",
        "with wave.open(file_path, 'rb') as wav_file:\n",
        "    # Extract and display audio parameters\n",
        "    params = wav_file.getparams()\n",
        "    sample_width = wav_file.getsampwidth()\n",
        "    num_channels = wav_file.getnchannels()\n",
        "    framerate = wav_file.getframerate()\n",
        "    num_frames = wav_file.getnframes()\n",
        "\n",
        "params, sample_width, num_channels, framerate, num_frames\n"
      ]
    },
    {
      "cell_type": "code",
      "source": [
        "import wave\n",
        "import numpy as np\n",
        "\n",
        "def convert_to_linear16(input_file, output_file, sample_rate=8000):\n",
        "    try:\n",
        "        # Open the input WAV file\n",
        "        with wave.open(input_file, 'rb') as wav_in:\n",
        "            params = wav_in.getparams()\n",
        "\n",
        "            # Read frames and convert to numpy array\n",
        "            raw_data = wav_in.readframes(params.nframes)\n",
        "            audio_data = np.frombuffer(raw_data, dtype=np.int16)  # 16-bit PCM data\n",
        "\n",
        "            # Ensure the audio is in the correct format (16-bit signed PCM)\n",
        "            if params.sampwidth != 2 or params.nchannels != 1 or params.framerate != sample_rate:\n",
        "                raise ValueError(f\"Input audio must be 16-bit, mono, {sample_rate}Hz PCM.\")\n",
        "\n",
        "            # Write to the output file in Linear16 format\n",
        "            with wave.open(output_file, 'wb') as wav_out:\n",
        "                wav_out.setnchannels(1)         # Mono channel\n",
        "                wav_out.setsampwidth(2)         # 16-bit audio\n",
        "                wav_out.setframerate(sample_rate)  # 8kHz sample rate\n",
        "                wav_out.writeframes(audio_data.tobytes())\n",
        "\n",
        "        print(f\"Conversion successful! WAV file saved as {output_file}\")\n",
        "    except Exception as e:\n",
        "        print(f\"Error during conversion: {e}\")\n",
        "\n",
        "# Usage\n",
        "input_file = '/content/streamed_audio.wav'\n",
        "\n",
        "output_file = '/content/output_linear16.wav'\n",
        "\n",
        "# Convert the input file to Deepgram's Linear16 format\n",
        "convert_to_linear16(input_file, output_file)\n"
      ],
      "metadata": {
        "colab": {
          "base_uri": "https://localhost:8080/"
        },
        "id": "mlCFshuuNkFj",
        "outputId": "95e2ca9f-3727-4d2e-df20-332e44aa7813"
      },
      "execution_count": 4,
      "outputs": [
        {
          "output_type": "stream",
          "name": "stdout",
          "text": [
            "Conversion successful! WAV file saved as /content/output_linear16.wav\n"
          ]
        }
      ]
    },
    {
      "cell_type": "markdown",
      "source": [],
      "metadata": {
        "id": "-Dza1M_uNJGj"
      }
    }
  ]
}